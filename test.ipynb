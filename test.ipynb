{
 "cells": [
  {
   "cell_type": "code",
   "execution_count": null,
   "metadata": {},
   "outputs": [],
   "source": [
    "Begin\n",
    "n=0\n",
    "t=0\n",
    "while(n<=20)\n",
    "do\n",
    "t=t+n\n",
    "n=n+1\n",
    "end do\n",
    "end"
   ]
  }
 ],
 "metadata": {
  "language_info": {
   "name": "python"
  },
  "orig_nbformat": 4
 },
 "nbformat": 4,
 "nbformat_minor": 2
}
